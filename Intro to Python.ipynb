{
 "cells": [
  {
   "cell_type": "markdown",
   "metadata": {
    "slideshow": {
     "slide_type": "slide"
    }
   },
   "source": [
    "# Introduction to Python\n",
    "\n",
    "Basically, what I'll like to cover in this section is:\n",
    "\n",
    "+ The python console\n",
    "+ Basic data types, variables, etc\n",
    "+ Basic data types operations\n",
    "+ Functions\n",
    "+ Built in methods and their underlying features\n",
    "+ Exercises on what we've covered so far\n"
   ]
  },
  {
   "cell_type": "markdown",
   "metadata": {},
   "source": [
    "> **This is a backup note or reference note for what will be discussed physically. In this notebook ( PDF when exported ), I have tried my best to explain things to a good level of understanding. Code examples have also been attached for further understanding. If you have any issues, try to see me on Wednesdays.**"
   ]
  },
  {
   "cell_type": "markdown",
   "metadata": {},
   "source": [
    "## The Python Console"
   ]
  },
  {
   "cell_type": "code",
   "execution_count": 32,
   "metadata": {},
   "outputs": [
    {
     "name": "stdout",
     "output_type": "stream",
     "text": [
      "Hello and welcome to the Python 3 console. \n",
      "\n"
     ]
    }
   ],
   "source": [
    "print(\"Hello and welcome to the Python 3 console. \\n\")"
   ]
  },
  {
   "cell_type": "markdown",
   "metadata": {},
   "source": [
    "The most introductory function is the `print()` function which displays input to the user console. By traditoin, we'll be printing hello world as displayed above. The python console is a great place to run your codes locally without having to connect to the internet except you're dealing with internet modules and/or scripts. "
   ]
  },
  {
   "cell_type": "markdown",
   "metadata": {},
   "source": [
    "Comments in Python are represented by either `#` or `\"\"\"`. The former is used for single line comments and the latter for multiline comments. The below piece of code demonstrate how comments work:"
   ]
  },
  {
   "cell_type": "code",
   "execution_count": 22,
   "metadata": {},
   "outputs": [
    {
     "name": "stdout",
     "output_type": "stream",
     "text": [
      "\n",
      "\n",
      "You can only see this printed!\n",
      "You can see this too, isn't this great \n",
      "\n"
     ]
    }
   ],
   "source": [
    "# This is a single line comment and won't be run. \n",
    "# The comment can be used to pass information or give description of what the user is doing.\n",
    "\n",
    "print(\"\\n\") # New line for distinguishing output from code block.\n",
    "\n",
    "print(\"You can only see this printed!\")\n",
    "\n",
    "\"\"\"\n",
    "This is a multiline comment.. Even the print() function won't work here.\n",
    "\"\"\"\n",
    "\n",
    "print(\"You can see this too, isn't this great \\n\")"
   ]
  },
  {
   "cell_type": "markdown",
   "metadata": {},
   "source": [
    "## Basic data types\n",
    "\n",
    "Just like in normal literacy, we have alphabets, digits, decimals ( floats ) etc. In programming, alphabets are known as strings, digits are known as integers and decimals are known as floats. We also have other data types like arrays and lists, booleans which are basically True or False statements mostly used in evaluating conditions.\n",
    "\n",
    "A variable is an object that stores a data type in it.\n",
    "\n",
    "We want to see the basic data types:\n",
    "\n",
    "1. Strings: A string is any value enclosed in double quotes such as \"abcdefghijklmnopqrsqtuvwxyz123456\". A string can contain numerals as long as they are enclosed in double/single quotes. It's more preferrable to enclose them in double quotes.\n",
    "\n",
    "2. Integers: This any number from 0 - Infinity.\n",
    "\n",
    "3. Floats: These are numbers we know as decimals, e.g `10.90`.\n",
    "\n",
    "4. Lists: Mutable collection of various data types including itself e.g [1,2, \"abdcdef\", False, 18.34]\n",
    "\n",
    "5. Booleans: This is either True of False. E.g the following expression returns a boolean when run ( examples are right below this section ). 10 > 2 returns True and 2 > 10 returns False.\n",
    "\n",
    "The data types above have series of operations that can be run on them such as iterations, additions ( for integers ), concatenations, slicing, spliting, joining and etc. We'll get to see alot of these operations as we proceed.\n",
    "\n",
    "The other data types will be discussed as we progress; dictionaries, tuples, sets."
   ]
  },
  {
   "cell_type": "code",
   "execution_count": 21,
   "metadata": {},
   "outputs": [
    {
     "name": "stdout",
     "output_type": "stream",
     "text": [
      "\n",
      "\n",
      "This is a string  This is a simple string\n",
      "This is an integer 123456789\n",
      "This is a float data type  100.345\n",
      "I have a todo list  ['learn python', 'practice python', 123, 80.5]\n",
      "10 > 2 is  True\n",
      "2 = 4 is  False\n"
     ]
    }
   ],
   "source": [
    "string = \"This is a simple string\"\n",
    "\n",
    "number = 123456789\n",
    "\n",
    "floats = 100.345\n",
    "\n",
    "todo_list = [\"learn python\", \"practice python\", 123, 80.5]\n",
    "\n",
    "boolean = True\n",
    "\n",
    "boolean2 = False\n",
    "\n",
    "# Let's print the variables declared:\n",
    "\n",
    "print(\"\\n\") # This is a newline so there'll be little space before the text and code output.\n",
    "\n",
    "print(\"This is a string \", string)\n",
    "print(\"This is an integer\" , number)\n",
    "print(\"This is a float data type \", floats)\n",
    "print(\"I have a todo list \", todo_list)\n",
    "print(\"10 > 2 is \", boolean)\n",
    "print(\"2 = 4 is \", boolean2)"
   ]
  },
  {
   "cell_type": "markdown",
   "metadata": {},
   "source": [
    "## Basic Data Types Operations\n",
    "\n",
    "The basic data types as we have discussed above have a lists of operations that can be carried out on them. Operations are carried out on data types are done by either appending the data types method ( from the parent class as all data types initialized are instances of super classes ) to the end of the variable or the variables are operated on as arguments such as the `sorted(arg)` function.\n",
    "\n",
    "We'll be discussing the basic operations carried out by/on each of the data types.\n",
    "\n",
    "### 1. Strings\n",
    "\n",
    "The operations carried out on strings includes; slicing, concatenation, case conversion, finding, counting characters, etc. We'll be looking at a few of the operations:\n",
    "\n",
    "+ .title()\n",
    "+ .isupper()\n",
    "+ .islower()\n",
    "+ .swapcase()\n",
    "+ .find()\n",
    "+ .count()\n",
    "\n",
    "The above methods are appended \n",
    "\n",
    "#### .title()\n",
    "\n",
    "The `.title()` method returns a new string with the first word title cased. i.e, in block letters. Example:"
   ]
  },
  {
   "cell_type": "code",
   "execution_count": 7,
   "metadata": {},
   "outputs": [
    {
     "data": {
      "text/plain": [
       "'Abdulazeez'"
      ]
     },
     "execution_count": 7,
     "metadata": {},
     "output_type": "execute_result"
    }
   ],
   "source": [
    "name = \"abdulazeez\"\n",
    "\n",
    "name.title()\n"
   ]
  },
  {
   "cell_type": "markdown",
   "metadata": {},
   "source": [
    "#### .isupper()\n",
    "\n",
    "The `.isupper()` method returns a boolean value. This method checks if the string passed is uppercased and returns either True or False. Example:"
   ]
  },
  {
   "cell_type": "code",
   "execution_count": 9,
   "metadata": {},
   "outputs": [
    {
     "data": {
      "text/plain": [
       "False"
      ]
     },
     "execution_count": 9,
     "metadata": {},
     "output_type": "execute_result"
    }
   ],
   "source": [
    "name.isupper()"
   ]
  },
  {
   "cell_type": "code",
   "execution_count": 12,
   "metadata": {},
   "outputs": [
    {
     "data": {
      "text/plain": [
       "True"
      ]
     },
     "execution_count": 12,
     "metadata": {},
     "output_type": "execute_result"
    }
   ],
   "source": [
    "city = \"KADUNA\"\n",
    "\n",
    "city.isupper()"
   ]
  },
  {
   "cell_type": "markdown",
   "metadata": {},
   "source": [
    "#### .islower()\n",
    "\n",
    "The `.islower()` method returns a boolean value. This method checks if the string passed is lowercased and returns either True or False. Example:"
   ]
  },
  {
   "cell_type": "code",
   "execution_count": 15,
   "metadata": {},
   "outputs": [
    {
     "data": {
      "text/plain": [
       "False"
      ]
     },
     "execution_count": 15,
     "metadata": {},
     "output_type": "execute_result"
    }
   ],
   "source": [
    "city.islower()"
   ]
  },
  {
   "cell_type": "code",
   "execution_count": 14,
   "metadata": {},
   "outputs": [
    {
     "data": {
      "text/plain": [
       "True"
      ]
     },
     "execution_count": 14,
     "metadata": {},
     "output_type": "execute_result"
    }
   ],
   "source": [
    "name.islower()"
   ]
  },
  {
   "cell_type": "markdown",
   "metadata": {},
   "source": [
    "#### .swapcase()\n",
    "\n",
    "The `.swapcase()` method swaps the cases of the string it is being acted upon. It turns the lowercased characters into uppercased characters and vice versa. Example:"
   ]
  },
  {
   "cell_type": "code",
   "execution_count": 20,
   "metadata": {},
   "outputs": [
    {
     "data": {
      "text/plain": [
       "'yOu DoNt KnOw'"
      ]
     },
     "execution_count": 20,
     "metadata": {},
     "output_type": "execute_result"
    }
   ],
   "source": [
    "multicase = \"YoU dOnT kNoW\"\n",
    "multicase.swapcase()"
   ]
  },
  {
   "cell_type": "markdown",
   "metadata": {},
   "source": [
    "#### .find(arg)\n",
    "\n",
    "The `.find()` method returns the index of the the passed argument `arg` which is a string. If the passed argument isn't contained in the string, it returns an index of **-1**. Example:"
   ]
  },
  {
   "cell_type": "code",
   "execution_count": 25,
   "metadata": {},
   "outputs": [
    {
     "data": {
      "text/plain": [
       "6"
      ]
     },
     "execution_count": 25,
     "metadata": {},
     "output_type": "execute_result"
    }
   ],
   "source": [
    "name.find(\"z\")"
   ]
  },
  {
   "cell_type": "code",
   "execution_count": 27,
   "metadata": {},
   "outputs": [
    {
     "data": {
      "text/plain": [
       "-1"
      ]
     },
     "execution_count": 27,
     "metadata": {},
     "output_type": "execute_result"
    }
   ],
   "source": [
    "name.find(\"g\")"
   ]
  },
  {
   "cell_type": "markdown",
   "metadata": {},
   "source": [
    "#### .count(arg)\n",
    "\n",
    "The count method basically returns the number of occurence of the arg passed into it. Example:"
   ]
  },
  {
   "cell_type": "code",
   "execution_count": 31,
   "metadata": {},
   "outputs": [
    {
     "data": {
      "text/plain": [
       "2"
      ]
     },
     "execution_count": 31,
     "metadata": {},
     "output_type": "execute_result"
    }
   ],
   "source": [
    "multicase.count(\"o\")"
   ]
  },
  {
   "cell_type": "markdown",
   "metadata": {},
   "source": [
    "> Ideally, you'd have been expecting that the count returns 3. This isn't so as in programming, uppercase and lowercase letters are not the same just as data types are not the same. In this case, \"o\" is not equal to \"O\"."
   ]
  },
  {
   "cell_type": "markdown",
   "metadata": {},
   "source": [
    "## Function\n",
    "\n",
    "Just like in maths, functions are objects that take in argument and then return a value after a series of operations have been undergone by the argument. Sometimes, they don't take arguments.\n",
    "\n",
    "Take functions as they work in math for example: `f(x) = 5`. The function `f(x)` returns 5. In corresponding Python code, we define it as thus:"
   ]
  },
  {
   "cell_type": "code",
   "execution_count": 40,
   "metadata": {},
   "outputs": [
    {
     "name": "stdout",
     "output_type": "stream",
     "text": [
      "5\n"
     ]
    }
   ],
   "source": [
    "def f(x):\n",
    "    print(5)\n",
    "    \n",
    "f(5)"
   ]
  },
  {
   "cell_type": "markdown",
   "metadata": {},
   "source": [
    "\n",
    "The above code may look strange but it's quite simple.\n",
    "\n",
    "### Defining A Function\n",
    "\n",
    "In Python, the `def` keyword is used in defining functions. The `def` keyword is followed by the function name, parenthesis that can either be left empty or containining an argument identifier variable and then a colon `:`.\n",
    "\n",
    "The colon signifies that any other code after it is part of the function's body as long as they're under a defined indentation level. The indentation can either be two spaces, or four spaces ( tab key ) and must be uniform. i.e,\n",
    "\n",
    "```py\n",
    "def functionname():\n",
    "    function body here\n",
    "```\n",
    "\n",
    "> Indentation is a very important aspect of Python programming. Python promotes the writing of clean, readable code and as such, sub-codes ( code working under the instruction of another such as loops - Explain better in person ) are indented to differentiate them from global variables or main variables in a program. **This explanation is quite hard - I'll have to explain better in person.**\n",
    "\n",
    "#### Returning Output\n",
    "\n",
    "The function even in maths returns an output. So, to return an output from the function, we are either printing out to the console or returning data that can be operated on. \n",
    "\n",
    "##### Printing Vs Returning\n",
    "\n",
    "Printing like it names displays the result to the console directly and can't be stored in a variable for later use unlike returning that allows the result to be stored in a variable for later use. \n",
    "\n",
    "To print result to the console instead of the console, we do this:\n",
    "\n",
    "```py\n",
    "def fn(x):\n",
    "    print(x)\n",
    "```\n",
    "\n",
    "And to return the output, we simply add the value to be returned after the return keyword:\n",
    "\n",
    "```py\n",
    "def fn2(x):\n",
    "    return x\n",
    "```\n",
    "\n",
    "#### Invoking A Function\n",
    "\n",
    "After defining a function, we definitely have to invoke it to either perform a task or return a specific output. We call a function by typing the function name out accompanied with either an empty parenthesis or an argument filled parenthesis.\n",
    "\n",
    "Example of a functions :"
   ]
  },
  {
   "cell_type": "code",
   "execution_count": 7,
   "metadata": {},
   "outputs": [
    {
     "name": "stdout",
     "output_type": "stream",
     "text": [
      "My name is Abdulazeez Abdulazeez Adeshina and I'm 17, :) \n",
      "\n",
      "10 \n",
      "\n",
      "Abdulazeez Adeshina Abdulazeez \n",
      "\n"
     ]
    }
   ],
   "source": [
    "# Function 1: Prints my name and age.\n",
    "\n",
    "def aboutMe():\n",
    "    print(\"My name is Abdulazeez Abdulazeez Adeshina and I'm 17, :) \\n\")\n",
    "    \n",
    "# Calling the aboutMe() function\n",
    "\n",
    "aboutMe()\n",
    "\n",
    "# Function 2: Prints the sum of two integers\n",
    "\n",
    "def add(x, y):\n",
    "    print(x + y, \"\\n\")\n",
    "\n",
    "\n",
    "add(4, 6)\n",
    "\n",
    "# Function 3: Returns an argument passed to it\n",
    "\n",
    "def myname(name):\n",
    "    return name\n",
    "\n",
    "print(myname(\"Abdulazeez Adeshina Abdulazeez \\n\"))\n"
   ]
  }
 ],
 "metadata": {
  "kernelspec": {
   "display_name": "Python 3",
   "language": "python",
   "name": "python3"
  },
  "language_info": {
   "codemirror_mode": {
    "name": "ipython",
    "version": 3
   },
   "file_extension": ".py",
   "mimetype": "text/x-python",
   "name": "python",
   "nbconvert_exporter": "python",
   "pygments_lexer": "ipython3",
   "version": "3.6.8"
  }
 },
 "nbformat": 4,
 "nbformat_minor": 4
}
